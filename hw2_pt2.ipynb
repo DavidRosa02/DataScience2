{
 "cells": [
  {
   "cell_type": "markdown",
   "metadata": {},
   "source": [
    "# Homework 2\n",
    "\n",
    "(Total: 50pt)\n",
    "\n",
    "This is an individual assignment.\n",
    "Related knowledge:\n",
    "- Bayes theorem\n",
    "- Independence\n",
    "- Combinatorics\n"
   ]
  },
  {
   "cell_type": "code",
   "execution_count": 45,
   "metadata": {},
   "outputs": [],
   "source": [
    "import random\n",
    "import numpy as np\n",
    "import numpy.random as npr\n",
    "import matplotlib.pyplot as plt\n",
    "import itertools\n",
    "%matplotlib inline\n",
    "plt.style.use('bmh')"
   ]
  },
  {
   "cell_type": "markdown",
   "metadata": {},
   "source": [
    "## Problem 1\n",
    "\n",
    "(20 pt)\n",
    "\n",
    "Implement a function to evaluate the relative frequency of a batch being accepted if it contains $k$ defectives.\n",
    "\n",
    "A batch of one hundred items is inspected by testing four randomly selected items.\n",
    "If one of the four is defective, the batch is rejected. What is the probability that the batch is\n",
    "accepted if it contains five defectives?"
   ]
  },
  {
   "cell_type": "code",
   "execution_count": 25,
   "metadata": {},
   "outputs": [],
   "source": [
    "def rejectk(k=5, batchnum=100): #k= the number of defectives in the batch\n",
    "    num_sims = 1000\n",
    "    rejectCounter = 0\n",
    "    # Create a list of items using booleans, 0 for non-defective, 1 for defective, that represets the batch.\n",
    "    batch = [0] * batchnum\n",
    "    for i in range(k):\n",
    "        batch[i] = 1\n",
    "    for sim in range(num_sims):\n",
    "        sample = random.sample(batch, k=4)\n",
    "        for i in sample:\n",
    "            if(i == 1):\n",
    "                rejectCounter += 1\n",
    "                break\n",
    "    antiProbability = rejectCounter / num_sims\n",
    "    relFreq = 1 - antiProbability\n",
    "    print(relFreq)\n",
    "         # implement sampling from the batch.\n",
    "        # determine if it shall be rejected.\n",
    "\n",
    "    #calculate and print out the relative frequency."
   ]
  },
  {
   "cell_type": "code",
   "execution_count": 26,
   "metadata": {},
   "outputs": [
    {
     "name": "stdout",
     "output_type": "stream",
     "text": [
      "0.792\n"
     ]
    }
   ],
   "source": [
    "rejectk(5,100)"
   ]
  },
  {
   "cell_type": "markdown",
   "metadata": {},
   "source": [
    "## Problem 2\n",
    "\n",
    "(20 pt)\n",
    "\n",
    "**Suppose you have an assortment of coins: 51 coins each with probability of flipping heads $p$, in the interval $[0.3,0.8]$, defined below:**"
   ]
  },
  {
   "cell_type": "code",
   "execution_count": 28,
   "metadata": {},
   "outputs": [
    {
     "data": {
      "text/plain": [
       "array([0.3 , 0.31, 0.32, 0.33, 0.34, 0.35, 0.36, 0.37, 0.38, 0.39, 0.4 ,\n",
       "       0.41, 0.42, 0.43, 0.44, 0.45, 0.46, 0.47, 0.48, 0.49, 0.5 , 0.51,\n",
       "       0.52, 0.53, 0.54, 0.55, 0.56, 0.57, 0.58, 0.59, 0.6 , 0.61, 0.62,\n",
       "       0.63, 0.64, 0.65, 0.66, 0.67, 0.68, 0.69, 0.7 , 0.71, 0.72, 0.73,\n",
       "       0.74, 0.75, 0.76, 0.77, 0.78, 0.79, 0.8 ])"
      ]
     },
     "execution_count": 28,
     "metadata": {},
     "output_type": "execute_result"
    }
   ],
   "source": [
    "import numpy as np\n",
    "allcoins = np.linspace(0.3,0.8,51)  # set of coins\n",
    "\n",
    "allcoins"
   ]
  },
  {
   "cell_type": "markdown",
   "metadata": {},
   "source": [
    "Consider the experiment where you pick a coin at random and flip it 8 times, and the event \"all tails\" occurs. \n",
    "\n",
    " **What is the probability that the coin has a probability of tail smaller than 0.5?**\n",
    " \n",
    "Implement simulation to evaluate the relative frequency\n"
   ]
  },
  {
   "cell_type": "code",
   "execution_count": 44,
   "metadata": {},
   "outputs": [
    {
     "name": "stdout",
     "output_type": "stream",
     "text": [
      "0.03418803418803419\n"
     ]
    }
   ],
   "source": [
    "num_sims = 100000\n",
    "allTails = 0\n",
    "eventCount = 0\n",
    "for sim in range(num_sims):\n",
    "    testFailed = 0\n",
    "    chosenCoin = random.choice(allcoins)\n",
    "    simValue = npr.choice(['head', 'tail'],8, p=[chosenCoin, 1-chosenCoin])\n",
    "    for i in simValue:\n",
    "        if(i == 'head'):\n",
    "            testFailed = 1\n",
    "            break\n",
    "    if(testFailed == 0):\n",
    "        allTails += 1\n",
    "        if(chosenCoin > 0.5):\n",
    "            eventCount += 1\n",
    "print(eventCount / allTails)"
   ]
  },
  {
   "cell_type": "markdown",
   "metadata": {},
   "source": [
    "## Problem 3\n",
    "\n",
    "(5 pt)\n",
    "Using python to perform the counting\n",
    "\n",
    "\n",
    "How many ways can one arrange 4 math books, 3 chemistry books, 2 physics\n",
    "books, and 1 biology book on a bookshelf so that all the math books are together, all the\n",
    "chemistry books are together, and all the physics books are together?"
   ]
  },
  {
   "cell_type": "code",
   "execution_count": 58,
   "metadata": {},
   "outputs": [
    {
     "name": "stdout",
     "output_type": "stream",
     "text": [
      "3628800\n",
      "6912\n"
     ]
    }
   ],
   "source": [
    "eventCnt = 0\n",
    "allPermutations = list(itertools.permutations([1, 2, 3, 4, 11, 12, 13, 101, 102, 1000]))\n",
    "print(len(allPermutations))\n",
    "for m in allPermutations:\n",
    "    mathBook = 'false'\n",
    "    chemBook = 'false'\n",
    "    physBook = 'false'\n",
    "    for i, j, k, l in zip(m, m[1:], m[2:], m[3:]):\n",
    "        if i < 10 and j < 10 and k < 10 and l < 10:\n",
    "            mathBook = 'true'\n",
    "    for i, j, k in zip(m, m[1:], m[2:]):\n",
    "        if (i > 10 and i < 100) and (j > 10 and j < 100) and (k > 10 and k < 100):\n",
    "            chemBook = 'true'\n",
    "    for i, j in zip(m, m[1:]):\n",
    "        if (i > 100 and i < 1000) and (j > 100 and j < 1000):\n",
    "            physBook = 'true'\n",
    "    if mathBook == 'true' and chemBook == 'true' and physBook == 'true':\n",
    "        eventCnt += 1\n",
    "print(eventCnt)"
   ]
  },
  {
   "cell_type": "markdown",
   "metadata": {},
   "source": [
    "## Problem 4\n",
    "(5 pt) Using python to perform the counting\n",
    "\n",
    "Suppose there are 10 men and 8 women. How many ways can we choose a committee that has 2 men and 2 women? "
   ]
  },
  {
   "cell_type": "code",
   "execution_count": 60,
   "metadata": {},
   "outputs": [
    {
     "name": "stdout",
     "output_type": "stream",
     "text": [
      "1260\n"
     ]
    }
   ],
   "source": [
    "combMen = list(itertools.combinations([1, 2, 3, 4, 5, 6, 7, 8, 9, 10], 2))\n",
    "combWomen = list(itertools.combinations([1, 2, 3, 4, 5, 6, 7, 8], 2))\n",
    "print(len(combMen) * len(combWomen))"
   ]
  },
  {
   "cell_type": "markdown",
   "metadata": {},
   "source": [
    "# Submit Your Solutions\n",
    "\n",
    "Confirm that you've successfully completed the assignment.\n",
    "submit both the notebook files and a PDF printout"
   ]
  },
  {
   "cell_type": "code",
   "execution_count": null,
   "metadata": {},
   "outputs": [],
   "source": []
  }
 ],
 "metadata": {
  "kernelspec": {
   "display_name": "Python 3 (ipykernel)",
   "language": "python",
   "name": "python3"
  },
  "language_info": {
   "codemirror_mode": {
    "name": "ipython",
    "version": 3
   },
   "file_extension": ".py",
   "mimetype": "text/x-python",
   "name": "python",
   "nbconvert_exporter": "python",
   "pygments_lexer": "ipython3",
   "version": "3.11.5"
  },
  "latex_envs": {
   "LaTeX_envs_menu_present": true,
   "autoclose": false,
   "autocomplete": true,
   "bibliofile": "biblio.bib",
   "cite_by": "apalike",
   "current_citInitial": 1,
   "eqLabelWithNumbers": true,
   "eqNumInitial": 1,
   "hotkeys": {
    "equation": "Ctrl-E",
    "itemize": "Ctrl-I"
   },
   "labels_anchors": false,
   "latex_user_defs": false,
   "report_style_numbering": false,
   "user_envs_cfg": false
  },
  "varInspector": {
   "cols": {
    "lenName": 16,
    "lenType": 16,
    "lenVar": 40
   },
   "kernels_config": {
    "python": {
     "delete_cmd_postfix": "",
     "delete_cmd_prefix": "del ",
     "library": "var_list.py",
     "varRefreshCmd": "print(var_dic_list())"
    },
    "r": {
     "delete_cmd_postfix": ") ",
     "delete_cmd_prefix": "rm(",
     "library": "var_list.r",
     "varRefreshCmd": "cat(var_dic_list()) "
    }
   },
   "types_to_exclude": [
    "module",
    "function",
    "builtin_function_or_method",
    "instance",
    "_Feature"
   ],
   "window_display": false
  }
 },
 "nbformat": 4,
 "nbformat_minor": 4
}
